{
 "cells": [
  {
   "cell_type": "code",
   "execution_count": 1,
   "id": "7b72d247",
   "metadata": {},
   "outputs": [],
   "source": [
    "\n",
    "\n",
    "data_input=sc.textFile(\"/home/samar1/2023-03-01.csv\")\n",
    "\n",
    "data_input=data_input.map(lambda fields: (fields.replace('\"', '')))\n",
    "\n",
    "\n"
   ]
  },
  {
   "cell_type": "code",
   "execution_count": 2,
   "id": "a8f581a6",
   "metadata": {},
   "outputs": [],
   "source": [
    "import warnings\n",
    "warnings.filterwarnings('ignore')\n"
   ]
  },
  {
   "cell_type": "markdown",
   "id": "b6e0d3be",
   "metadata": {},
   "source": [
    "### Question 1 "
   ]
  },
  {
   "cell_type": "code",
   "execution_count": 3,
   "id": "c649a322",
   "metadata": {},
   "outputs": [
    {
     "name": "stderr",
     "output_type": "stream",
     "text": [
      "[Stage 0:=====================================================>   (17 + 1) / 18]\r"
     ]
    },
    {
     "name": "stdout",
     "output_type": "stream",
     "text": [
      "The total no of the package with ggplot2 are given below\n",
      "[('ggplot2', 94577)]\n"
     ]
    },
    {
     "name": "stderr",
     "output_type": "stream",
     "text": [
      "                                                                                \r"
     ]
    }
   ],
   "source": [
    "packg=data_input.map(lambda x: x.split(\",\"))\n",
    "packg=packg.map(lambda field:field[6])\n",
    "packg=packg.filter(lambda field: 'ggplot2'== field)\n",
    "packg=packg.map(lambda x: (x, 1))\n",
    "packg=packg.reduceByKey(lambda a,b: a + b)\n",
    "packg=packg.collect()\n",
    "\n",
    "print(\"The total no of the package with ggplot2 are given below\")\n",
    "print(packg)\n",
    "\n"
   ]
  },
  {
   "cell_type": "markdown",
   "id": "8ec2c904",
   "metadata": {},
   "source": [
    "## Question 2 "
   ]
  },
  {
   "cell_type": "code",
   "execution_count": 4,
   "id": "ba5e8e12",
   "metadata": {},
   "outputs": [
    {
     "name": "stderr",
     "output_type": "stream",
     "text": [
      "[Stage 2:==================================================>      (16 + 2) / 18]\r"
     ]
    },
    {
     "name": "stdout",
     "output_type": "stream",
     "text": [
      "The highest number of downloads by a country is given below\n",
      "('US', 3061236)\n"
     ]
    },
    {
     "name": "stderr",
     "output_type": "stream",
     "text": [
      "                                                                                \r"
     ]
    }
   ],
   "source": [
    "countr_by_cnt=data_input.map(lambda x: x.split(\",\"))\n",
    "countr_by_cnt=countr_by_cnt.map(lambda field:field[8])\n",
    "countr_by_cnt=countr_by_cnt.map(lambda x: (x, 1))\n",
    "countr_by_cnt=countr_by_cnt.reduceByKey(lambda a,b: a + b)\n",
    "countr_by_cnt=countr_by_cnt.max(key=lambda x: x[1])\n",
    "print(\"The highest number of downloads by a country is given below\")\n",
    "print(countr_by_cnt)"
   ]
  },
  {
   "cell_type": "markdown",
   "id": "55dc21f3",
   "metadata": {},
   "source": [
    "# Question 3"
   ]
  },
  {
   "cell_type": "code",
   "execution_count": 5,
   "id": "5c406288",
   "metadata": {},
   "outputs": [
    {
     "name": "stderr",
     "output_type": "stream",
     "text": [
      "                                                                                \r"
     ]
    },
    {
     "name": "stdout",
     "output_type": "stream",
     "text": [
      "The top 10 most popular package are given below\n",
      "ragg\n",
      "textshaping\n",
      "ggplot2\n",
      "cli\n",
      "rlang\n",
      "vctrs\n",
      "lifecycle\n",
      "dplyr\n",
      "tidyverse\n",
      "systemfonts\n"
     ]
    }
   ],
   "source": [
    "mst_pps_packg=data_input.map(lambda x: x.split(\",\"))\n",
    "mst_pps_packg=mst_pps_packg.map(lambda field:field[6])\n",
    "mst_pps_packg=mst_pps_packg.map(lambda x: (x, 1))\n",
    "mst_pps_packg=mst_pps_packg.reduceByKey(lambda a,b: a + b)\n",
    "mst_pps_packg=mst_pps_packg.map(lambda x: (x[1], x[0]))\n",
    "mst_pps_packg=mst_pps_packg.sortByKey(ascending=False)\n",
    "print(\"The top 10 most popular package are given below\")\n",
    "for row in mst_pps_packg.take(10):\n",
    "    print(row[1])"
   ]
  },
  {
   "cell_type": "markdown",
   "id": "0d013b42",
   "metadata": {},
   "source": [
    "## Question 4\n"
   ]
  },
  {
   "cell_type": "code",
   "execution_count": 6,
   "id": "9c3cceb4",
   "metadata": {},
   "outputs": [
    {
     "name": "stderr",
     "output_type": "stream",
     "text": [
      "[Stage 11:=================================================>      (16 + 2) / 18]\r"
     ]
    },
    {
     "name": "stdout",
     "output_type": "stream",
     "text": [
      " The most popular package in ireland along with count\n",
      "('vctrs', 202)\n",
      "The most popular package in ireland\n",
      "vctrs\n"
     ]
    },
    {
     "name": "stderr",
     "output_type": "stream",
     "text": [
      "                                                                                \r"
     ]
    }
   ],
   "source": [
    "ppl_packg_ie=data_input.map(lambda x: x.split(\",\"))\n",
    "ppl_packg_ie=ppl_packg_ie.filter(lambda country: country[8] == 'IE').map(lambda field:field[6])\n",
    "ppl_packg_ie=ppl_packg_ie.map(lambda x: (x, 1))\n",
    "ppl_packg_ie=ppl_packg_ie.reduceByKey(lambda a,b: a + b)\n",
    "ppl_packg_ie=ppl_packg_ie.max(key=lambda x: x[1])\n",
    "print (\" The most popular package in ireland along with count\")\n",
    "print(ppl_packg_ie)\n",
    "#ask. sir in which way we have to print\n",
    "print(\"The most popular package in ireland\")\n",
    "print(ppl_packg_ie[0])"
   ]
  },
  {
   "cell_type": "markdown",
   "id": "592cf5fa",
   "metadata": {},
   "source": [
    "## Question 5"
   ]
  },
  {
   "cell_type": "code",
   "execution_count": 7,
   "id": "058919b3",
   "metadata": {},
   "outputs": [
    {
     "name": "stderr",
     "output_type": "stream",
     "text": [
      "[Stage 13:=================================================>      (16 + 2) / 18]\r"
     ]
    },
    {
     "name": "stdout",
     "output_type": "stream",
     "text": [
      "The most OS popular among the R programmers is given below\n",
      "('mingw32', 3194919)\n",
      "The above os is MAC OS\n"
     ]
    },
    {
     "name": "stderr",
     "output_type": "stream",
     "text": [
      "                                                                                \r"
     ]
    }
   ],
   "source": [
    "mst_pps_r_os=data_input.map(lambda x: x.split(\",\"))\n",
    "mst_pps_r_os=mst_pps_r_os.map(lambda field:field[5])\n",
    "mst_pps_r_os=mst_pps_r_os.map(lambda x: (x, 1))\n",
    "mst_pps_r_os=mst_pps_r_os.reduceByKey(lambda a,b: a + b)\n",
    "mst_pps_r_os=mst_pps_r_os.max(key=lambda x: x[1])\n",
    "print(\"The most OS popular among the R programmers is given below\")\n",
    "if mst_pps_r_os[0]=='\"mingw32\"':\n",
    "    print(mst_pps_r_os)\n",
    "    print(\"The above os is WINDOWS OS\")\n",
    "else:\n",
    "    print(mst_pps_r_os)\n",
    "    print(\"The above os is MAC OS\")"
   ]
  },
  {
   "cell_type": "markdown",
   "id": "6d8be2b3",
   "metadata": {},
   "source": [
    "## Question 6 "
   ]
  },
  {
   "cell_type": "code",
   "execution_count": 8,
   "id": "d80669d2",
   "metadata": {},
   "outputs": [
    {
     "name": "stderr",
     "output_type": "stream",
     "text": [
      "                                                                                \r"
     ]
    },
    {
     "name": "stdout",
     "output_type": "stream",
     "text": [
      "mingw3 is windows \n",
      "Darwin is mac OS\n",
      "[(3194919, 'mingw3'), (2453136, 'NA'), (1026009, 'darwin'), (779397, 'linux-'), (81, 'freebs'), (1, 'openbs')]\n"
     ]
    }
   ],
   "source": [
    "mst_pps_r=data_input.map(lambda x: x.split(\",\"))\n",
    "\n",
    "mst_pps_r=mst_pps_r.map(lambda field:field[5])\n",
    "\n",
    "mst_pps_r=mst_pps_r.map(lambda x: x[:6])\n",
    "\n",
    "mst_pps_r=mst_pps_r.map(lambda x: (x, 1))\n",
    "mst_pps_r=mst_pps_r.reduceByKey(lambda a,b: a + b)\n",
    "\n",
    "mst_pps_r=mst_pps_r.map(lambda x: (x[1], x[0]))\n",
    "mst_pps_r=mst_pps_r.sortByKey(ascending=False)\n",
    "os_data=mst_pps_r.collect()\n",
    "print(\"mingw3 is windows \")\n",
    "print(\"Darwin is mac OS\")\n",
    "print(os_data)\n"
   ]
  },
  {
   "cell_type": "markdown",
   "id": "17817dd4",
   "metadata": {},
   "source": [
    "## Question 7"
   ]
  },
  {
   "cell_type": "code",
   "execution_count": 9,
   "id": "706139f8",
   "metadata": {},
   "outputs": [
    {
     "name": "stderr",
     "output_type": "stream",
     "text": [
      "                                                                                \r"
     ]
    },
    {
     "name": "stdout",
     "output_type": "stream",
     "text": [
      "0   ('999974', 'diffobj')\n",
      "1   ('999971', 'farver')\n",
      "2   ('999970', 'gRbase')\n",
      "3   ('99994', 'onemapsgapi')\n",
      "4   ('99993', 'arrayhelpers')\n",
      "5   ('999918', 'phyclust')\n",
      "6   ('999917', 'phyclust')\n",
      "7   ('999914', 'phyclust')\n",
      "8   ('999913', 'phyclust')\n",
      "9   ('999899', 'wordcloud2')\n"
     ]
    }
   ],
   "source": [
    "dist_lrg_size5=data_input.map(lambda x: x.split(\",\"))\n",
    "dist_lrg_size6=dist_lrg_size5.map(lambda field:(field[2],field[6]))\n",
    "\n",
    "dist_lrg_size7=dist_lrg_size6.reduceByKey(max).sortBy(lambda x:x[0],ascending=False).take(10)\n",
    "\n",
    "\n",
    "for p in enumerate(dist_lrg_size7):\n",
    "   print(p[0],\" \", p[1])"
   ]
  },
  {
   "cell_type": "markdown",
   "id": "9b1524f9",
   "metadata": {},
   "source": [
    "## Question8"
   ]
  },
  {
   "cell_type": "code",
   "execution_count": 10,
   "id": "f584367f",
   "metadata": {},
   "outputs": [
    {
     "name": "stderr",
     "output_type": "stream",
     "text": [
      "                                                                                \r"
     ]
    },
    {
     "name": "stdout",
     "output_type": "stream",
     "text": [
      "Top 3 hours by download hits:\n",
      "15: 414162 hits\n",
      "14: 410287 hits\n",
      "08: 400809 hits\n"
     ]
    }
   ],
   "source": [
    "hr_hit=data_input.map(lambda x: x.split(\",\"))\n",
    "hr_hit=hr_hit.map(lambda field:field[1])\n",
    "hr_hit=hr_hit.map(lambda x: x[:2])\n",
    "hr_hit=hr_hit.map(lambda x: (x, 1))\n",
    "hr_hit=hr_hit.reduceByKey(lambda a,b: a + b)\n",
    "hr_hit=hr_hit.sortBy(lambda x: x[1], ascending=False).take(3)\n",
    "print(\"Top 3 hours by download hits:\")\n",
    "for hour, hits in hr_hit:\n",
    "    print(f\"{hour}: {hits} hits\")"
   ]
  },
  {
   "cell_type": "markdown",
   "id": "2d03a31a",
   "metadata": {},
   "source": [
    "## Question 9"
   ]
  },
  {
   "cell_type": "code",
   "execution_count": 11,
   "id": "5bac8a1b",
   "metadata": {},
   "outputs": [
    {
     "name": "stderr",
     "output_type": "stream",
     "text": [
      "                                                                                \r"
     ]
    },
    {
     "name": "stdout",
     "output_type": "stream",
     "text": [
      "The top 5 most popular package in US are given below\n",
      "ragg\n",
      "textshaping\n",
      "tidyverse\n",
      "systemfonts\n",
      "rlang\n"
     ]
    }
   ],
   "source": [
    "ppl_packg_US=data_input.map(lambda x: x.split(\",\"))\n",
    "ppl_packg_US=ppl_packg_US.filter(lambda country: country[8] == 'US').map(lambda field:field[6])\n",
    "ppl_packg_US=ppl_packg_US.map(lambda x: (x, 1))\n",
    "ppl_packg_US1=ppl_packg_US.reduceByKey(lambda a,b: a + b)\n",
    "ppl_packg_US1=ppl_packg_US1.map(lambda x: (x[1], x[0]))\n",
    "ppl_packg_US1=ppl_packg_US1.sortByKey(ascending=False)\n",
    "\n",
    "print(\"The top 5 most popular package in US are given below\")\n",
    "for row in ppl_packg_US1.take(5):\n",
    "    print(row[1])\n",
    "\n"
   ]
  },
  {
   "cell_type": "markdown",
   "id": "785b0d4d",
   "metadata": {},
   "source": [
    "### Question no 10"
   ]
  },
  {
   "cell_type": "code",
   "execution_count": 12,
   "id": "883b7ec6",
   "metadata": {},
   "outputs": [
    {
     "name": "stderr",
     "output_type": "stream",
     "text": [
      "[Stage 46:====================================================>   (17 + 1) / 18]\r"
     ]
    },
    {
     "name": "stdout",
     "output_type": "stream",
     "text": [
      "The total no of the 32 bit \n",
      "[('i386', 28723)]\n"
     ]
    },
    {
     "name": "stderr",
     "output_type": "stream",
     "text": [
      "                                                                                \r"
     ]
    }
   ],
   "source": [
    "m_32_bit=data_input.map(lambda x: x.split(\",\"))\n",
    "m_32_bit=m_32_bit.map(lambda field:field[4])\n",
    "m_32_bit=m_32_bit.filter(lambda field: 'i386'== field)#selecting 32 bit machine\n",
    "m_32_bit=m_32_bit.map(lambda x: (x, 1))\n",
    "m_32_bit=m_32_bit.reduceByKey(lambda a,b: a + b)\n",
    "m_32_bit=m_32_bit.collect()\n",
    "\n",
    "print(\"The total no of the 32 bit \")\n",
    "print(m_32_bit)"
   ]
  },
  {
   "cell_type": "code",
   "execution_count": null,
   "id": "6ef17ca2",
   "metadata": {},
   "outputs": [],
   "source": []
  }
 ],
 "metadata": {
  "kernelspec": {
   "display_name": "Python 3 (ipykernel)",
   "language": "python",
   "name": "python3"
  },
  "language_info": {
   "codemirror_mode": {
    "name": "ipython",
    "version": 3
   },
   "file_extension": ".py",
   "mimetype": "text/x-python",
   "name": "python",
   "nbconvert_exporter": "python",
   "pygments_lexer": "ipython3",
   "version": "3.8.10"
  }
 },
 "nbformat": 4,
 "nbformat_minor": 5
}
